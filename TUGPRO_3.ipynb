{
  "nbformat": 4,
  "nbformat_minor": 0,
  "metadata": {
    "colab": {
      "name": "TUPRO 3.ipynb",
      "provenance": [],
      "collapsed_sections": []
    },
    "kernelspec": {
      "name": "python3",
      "display_name": "Python 3"
    },
    "language_info": {
      "name": "python"
    }
  },
  "cells": [
    {
      "cell_type": "markdown",
      "metadata": {
        "id": "kOdsto_XSzCS"
      },
      "source": [
        "IMPORT LIB"
      ]
    },
    {
      "cell_type": "code",
      "metadata": {
        "id": "ymeyT4svmnQq"
      },
      "source": [
        "import pandas as pd\n",
        "import numpy as np\n",
        "import xlwt"
      ],
      "execution_count": 31,
      "outputs": []
    },
    {
      "cell_type": "markdown",
      "metadata": {
        "id": "01-tbW4GS3wN"
      },
      "source": [
        "DONWLOAD FILE TEST"
      ]
    },
    {
      "cell_type": "code",
      "metadata": {
        "colab": {
          "base_uri": "https://localhost:8080/"
        },
        "id": "dsuRv2seSOEL",
        "outputId": "dab640b8-e852-42de-91c5-8075672fa229"
      },
      "source": [
        "!gdown --id 15zW6ehWDbjWCpPA4Cmi99nFeY1-wjbG1"
      ],
      "execution_count": 32,
      "outputs": [
        {
          "output_type": "stream",
          "text": [
            "Downloading...\n",
            "From: https://drive.google.com/uc?id=15zW6ehWDbjWCpPA4Cmi99nFeY1-wjbG1\n",
            "To: /content/test.xls\n",
            "\r  0% 0.00/25.6k [00:00<?, ?B/s]\r100% 25.6k/25.6k [00:00<00:00, 3.74MB/s]\n"
          ],
          "name": "stdout"
        }
      ]
    },
    {
      "cell_type": "markdown",
      "metadata": {
        "id": "nS9fCO0JS6cF"
      },
      "source": [
        "DONWLOAD TRAINING DATA"
      ]
    },
    {
      "cell_type": "code",
      "metadata": {
        "colab": {
          "base_uri": "https://localhost:8080/"
        },
        "id": "6REaaIUPSdlj",
        "outputId": "7f024fe9-95f4-4840-c814-d80e7eba3799"
      },
      "source": [
        "!gdown --id 1rFd_1NiSsxLCAzvdFz-9lh9NJEfBRg02"
      ],
      "execution_count": 33,
      "outputs": [
        {
          "output_type": "stream",
          "text": [
            "Downloading...\n",
            "From: https://drive.google.com/uc?id=1rFd_1NiSsxLCAzvdFz-9lh9NJEfBRg02\n",
            "To: /content/mobil.xls\n",
            "\r  0% 0.00/29.2k [00:00<?, ?B/s]\r100% 29.2k/29.2k [00:00<00:00, 3.80MB/s]\n"
          ],
          "name": "stdout"
        }
      ]
    },
    {
      "cell_type": "markdown",
      "metadata": {
        "id": "OD63HOv1TGBt"
      },
      "source": [
        "MEMBACA FILE TEST\n"
      ]
    },
    {
      "cell_type": "code",
      "metadata": {
        "id": "n41joNyKTBzL"
      },
      "source": [
        "tes = pd.read_excel('test.xls')"
      ],
      "execution_count": 34,
      "outputs": []
    },
    {
      "cell_type": "markdown",
      "metadata": {
        "id": "C5-krKPSTCm-"
      },
      "source": [
        "MEMBACA FILE TRAINNING DATA"
      ]
    },
    {
      "cell_type": "code",
      "metadata": {
        "id": "0MiRiyROpOgd"
      },
      "source": [
        "data = pd.read_excel('mobil.xls')\n"
      ],
      "execution_count": 35,
      "outputs": []
    },
    {
      "cell_type": "markdown",
      "metadata": {
        "id": "ZlJWXYGNp5Qv"
      },
      "source": [
        "FUNGSI MENGHITUNG EUCLIDEAN"
      ]
    },
    {
      "cell_type": "code",
      "metadata": {
        "id": "pFVZ2Irox8RR"
      },
      "source": [
        "def euclidean(x, y):\n",
        "  #x=list 1 mobil\n",
        "  #y=list data test\n",
        "  n1 = x[1]-y[0][1]\n",
        "  n2 = x[2]-y[0][2]\n",
        "  n3 = x[3]-y[0][3]\n",
        "  n4 = x[4]-y[0][4]\n",
        "  n5 = x[5]-y[0][5]\n",
        "  return ((n1)**2 + (n2)**2 + (n3)**2 + (n4)**2 + (n5)**2)**(1/2)"
      ],
      "execution_count": 36,
      "outputs": []
    },
    {
      "cell_type": "markdown",
      "metadata": {
        "id": "dgrQwJ1Sp9Ye"
      },
      "source": [
        "FUNGSI MENGHITUNG MANHATTAN"
      ]
    },
    {
      "cell_type": "code",
      "metadata": {
        "id": "suEQ-DiWDYnd"
      },
      "source": [
        "def manhattan(x, y):\n",
        "  #x=list 1 mobil\n",
        "  #y=list data test\n",
        "  n1 = x[1]-y[0][1]\n",
        "  n2 = x[2]-y[0][2]\n",
        "  n3 = x[3]-y[0][3]\n",
        "  n4 = x[4]-y[0][4]\n",
        "  n5 = x[5]-y[0][5]\n",
        "  return (abs(n1) + abs(n2) + abs(n3) + abs(n4) + abs(n5))"
      ],
      "execution_count": 37,
      "outputs": []
    },
    {
      "cell_type": "markdown",
      "metadata": {
        "id": "43pk6Xg5qAaw"
      },
      "source": [
        "FUNGSI MENGHITUNG MINKOWSKI"
      ]
    },
    {
      "cell_type": "code",
      "metadata": {
        "id": "UQcx5zZkE5Ro"
      },
      "source": [
        "def minkowski(x, y):\n",
        "  #x=list 1 mobil\n",
        "  #y=list data test\n",
        "  #h=1.5=3/2\n",
        "  n1 = (abs(x[1]-y[0][1]))**(3/2)\n",
        "  n2 = (abs(x[2]-y[0][2]))**(3/2)\n",
        "  n3 = (abs(x[3]-y[0][3]))**(3/2)\n",
        "  n4 = (abs(x[4]-y[0][4]))**(3/2)\n",
        "  n5 = (abs(x[5]-y[0][5]))**(3/2)\n",
        "  return (n1 + n2 + n3 + n4 + n5)**(2/3)"
      ],
      "execution_count": 38,
      "outputs": []
    },
    {
      "cell_type": "markdown",
      "metadata": {
        "id": "-XGKj5LvqDt2"
      },
      "source": [
        "FUNGSI MENGHITUNG SUPREMUM"
      ]
    },
    {
      "cell_type": "code",
      "metadata": {
        "id": "YMVFeLgaGKc2"
      },
      "source": [
        "def supremum(x, y):\n",
        "  #x=list 1 mobil\n",
        "  #y=list data test\n",
        "  n1 = (abs(x[1]-y[0][1]))\n",
        "  n2 = (abs(x[2]-y[0][2]))\n",
        "  n3 = (abs(x[3]-y[0][3]))\n",
        "  n4 = (abs(x[4]-y[0][4]))\n",
        "  n5 = (abs(x[5]-y[0][5]))\n",
        "  return max(n1, n2, n3, n4, n5)"
      ],
      "execution_count": 39,
      "outputs": []
    },
    {
      "cell_type": "markdown",
      "metadata": {
        "id": "cdTJFK1zqHPr"
      },
      "source": [
        "MAIN PROGRAM"
      ]
    },
    {
      "cell_type": "code",
      "metadata": {
        "id": "pcI9px9w2Bh0",
        "colab": {
          "base_uri": "https://localhost:8080/"
        },
        "outputId": "ab15ee6a-bdd8-4537-881e-d5e741c6cee4"
      },
      "source": [
        "#define beberapa array\n",
        "jarak = []\n",
        "euc_list = []\n",
        "man_list = []\n",
        "min_list = []\n",
        "supre_list = []\n",
        "#ubah dataframe menjadi array\n",
        "jarak = data.to_numpy()\n",
        "test = tes.to_numpy()\n",
        "#lakukan proses penghitungan setiap data\n",
        "for i in range(17):\n",
        "  euc_list.append(euclidean(jarak[i], test)) \n",
        "  man_list.append(manhattan(jarak[i], test))\n",
        "  min_list.append(minkowski(jarak[i], test))\n",
        "  supre_list.append(supremum(jarak[i], test))\n",
        "#masukan hasil perhitungan kedalam dataframe\n",
        "data.insert(6,\"Euclidean Distance\",euc_list,True)\n",
        "data.insert(7,\"Manhattan Distance\",man_list,True)\n",
        "data.insert(8,\"Minkowski Distance\",min_list,True)\n",
        "data.insert(9,\"Supremum Distance\",supre_list,True)\n",
        "pd.set_option('display.width', 200)\n",
        "pd.set_option('display.max_columns', None)\n",
        "data.sort_values(by=['Manhattan Distance'], inplace=True) # jika ingin me-run program gunakan run all, jika tidak maka kolom dataframe akan bertambah terus\n",
        "print(\"---------------------------------------Berikut mobil yang mendekati input berdasarkan Manhattan Distance-----------------------------------------------\")\n",
        "print(data.iloc[:6])\n",
        "result = data.to_numpy()\n",
        "#masukan hasil ke dalam excel\n",
        "workbook = xlwt.Workbook()\n",
        "worksheet = workbook.add_sheet('Hasil')\n",
        "for i in range(3):\n",
        "  worksheet.write(i,0,result[i][0])\n",
        "workbook.save('Rekomendasi_Manhattan.xls')\n",
        "data.sort_values(by=['Euclidean Distance'], inplace=True) # jika ingin me-run program gunakan run all, jika tidak maka kolom dataframe akan bertambah terus\n",
        "print(\"---------------------------------------Berikut mobil yang mendekati input berdasarkan Euclidean Distance-----------------------------------------------\")\n",
        "print(data.iloc[:6])\n",
        "result = data.to_numpy()\n",
        "#masukan hasil ke dalam excel\n",
        "workbook = xlwt.Workbook()\n",
        "worksheet = workbook.add_sheet('Hasil')\n",
        "for i in range(3):\n",
        "  worksheet.write(i,0,result[i][0])\n",
        "workbook.save('Rekomendasi_Euclidean.xls')\n",
        "data.sort_values(by=['Minkowski Distance'], inplace=True) # jika ingin me-run program gunakan run all, jika tidak maka kolom dataframe akan bertambah terus\n",
        "print(\"---------------------------------------Berikut mobil yang mendekati input berdasarkan Minkowski Distance-----------------------------------------------\")\n",
        "print(data.iloc[:6])\n",
        "result = data.to_numpy()\n",
        "#masukan hasil ke dalam excel\n",
        "workbook = xlwt.Workbook()\n",
        "worksheet = workbook.add_sheet('Hasil')\n",
        "for i in range(3):\n",
        "  worksheet.write(i,0,result[i][0])\n",
        "workbook.save('Rekomendasi_Minkowski.xls')\n",
        "data.sort_values(by=['Supremum Distance'], inplace=True) # jika ingin me-run program gunakan run all, jika tidak maka kolom dataframe akan bertambah terus\n",
        "print(\"---------------------------------------Berikut mobil yang mendekati input berdasarkan Supremum Distance-----------------------------------------------\")\n",
        "print(data.iloc[:6])\n",
        "result = data.to_numpy()\n",
        "#masukan hasil ke dalam excel\n",
        "workbook = xlwt.Workbook()\n",
        "worksheet = workbook.add_sheet('Hasil')\n",
        "for i in range(3):\n",
        "  worksheet.write(i,0,result[i][0])\n",
        "workbook.save('Rekomendasi_Supremum.xls')"
      ],
      "execution_count": 40,
      "outputs": [
        {
          "output_type": "stream",
          "text": [
            "---------------------------------------Berikut mobil yang mendekati input berdasarkan Manhattan Distance-----------------------------------------------\n",
            "        Nama Mobil  Ukuran  Kenyamanan  Irit  Kecepatan  Harga (Ratus Juta)  Euclidean Distance  Manhattan Distance  Minkowski Distance  Supremum Distance\n",
            "3   Daihatsu Xenia       6           4     6          6                1.75            3.816084                6.75            4.540186                3.0\n",
            "2    Toyota Avanza       6           5     6          6                2.00            4.000000                8.00            4.953453                3.0\n",
            "5           Livina       7           7     6          7                2.10            4.267318                8.10            5.243433                3.0\n",
            "4          Xpander       7           7     6          7                2.25            4.308422                8.25            5.314190                3.0\n",
            "7    Toyota Innova       8           8     5          7                4.00            5.196152                9.00            6.135111                4.0\n",
            "15   Suzuki Ertiga       7           7     7          7                2.30            4.867237                9.30            6.001639                3.0\n",
            "---------------------------------------Berikut mobil yang mendekati input berdasarkan Euclidean Distance-----------------------------------------------\n",
            "        Nama Mobil  Ukuran  Kenyamanan  Irit  Kecepatan  Harga (Ratus Juta)  Euclidean Distance  Manhattan Distance  Minkowski Distance  Supremum Distance\n",
            "3   Daihatsu Xenia       6           4     6          6                1.75            3.816084                6.75            4.540186                3.0\n",
            "2    Toyota Avanza       6           5     6          6                2.00            4.000000                8.00            4.953453                3.0\n",
            "5           Livina       7           7     6          7                2.10            4.267318                8.10            5.243433                3.0\n",
            "4          Xpander       7           7     6          7                2.25            4.308422                8.25            5.314190                3.0\n",
            "15   Suzuki Ertiga       7           7     7          7                2.30            4.867237                9.30            6.001639                3.0\n",
            "7    Toyota Innova       8           8     5          7                4.00            5.196152                9.00            6.135111                4.0\n",
            "---------------------------------------Berikut mobil yang mendekati input berdasarkan Minkowski Distance-----------------------------------------------\n",
            "        Nama Mobil  Ukuran  Kenyamanan  Irit  Kecepatan  Harga (Ratus Juta)  Euclidean Distance  Manhattan Distance  Minkowski Distance  Supremum Distance\n",
            "3   Daihatsu Xenia       6           4     6          6                1.75            3.816084                6.75            4.540186                3.0\n",
            "2    Toyota Avanza       6           5     6          6                2.00            4.000000                8.00            4.953453                3.0\n",
            "5           Livina       7           7     6          7                2.10            4.267318                8.10            5.243433                3.0\n",
            "4          Xpander       7           7     6          7                2.25            4.308422                8.25            5.314190                3.0\n",
            "15   Suzuki Ertiga       7           7     7          7                2.30            4.867237                9.30            6.001639                3.0\n",
            "7    Toyota Innova       8           8     5          7                4.00            5.196152                9.00            6.135111                4.0\n",
            "---------------------------------------Berikut mobil yang mendekati input berdasarkan Supremum Distance-----------------------------------------------\n",
            "        Nama Mobil  Ukuran  Kenyamanan  Irit  Kecepatan  Harga (Ratus Juta)  Euclidean Distance  Manhattan Distance  Minkowski Distance  Supremum Distance\n",
            "3   Daihatsu Xenia       6           4     6          6                1.75            3.816084                6.75            4.540186                3.0\n",
            "2    Toyota Avanza       6           5     6          6                2.00            4.000000                8.00            4.953453                3.0\n",
            "5           Livina       7           7     6          7                2.10            4.267318                8.10            5.243433                3.0\n",
            "4          Xpander       7           7     6          7                2.25            4.308422                8.25            5.314190                3.0\n",
            "15   Suzuki Ertiga       7           7     7          7                2.30            4.867237                9.30            6.001639                3.0\n",
            "10      Honda City       5           8     7          8                2.70            6.700000               13.70            8.415443                4.0\n"
          ],
          "name": "stdout"
        }
      ]
    }
  ]
}